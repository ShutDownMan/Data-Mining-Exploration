{
 "metadata": {
  "language_info": {
   "codemirror_mode": {
    "name": "ipython",
    "version": 3
   },
   "file_extension": ".py",
   "mimetype": "text/x-python",
   "name": "python",
   "nbconvert_exporter": "python",
   "pygments_lexer": "ipython3",
   "version": "3.8.5-final"
  },
  "orig_nbformat": 2,
  "kernelspec": {
   "name": "python38164bitb7e0759dcf5b42a7814cf7f27ec20b33",
   "display_name": "Python 3.8.1 64-bit"
  }
 },
 "nbformat": 4,
 "nbformat_minor": 2,
 "cells": [
  {
   "cell_type": "markdown",
   "metadata": {},
   "source": [
    "# Head Neck Cancer Medication Data Mining\n",
    "\n",
    "Preprocess and predict from the data early and late stage cancer patients"
   ]
  },
  {
   "cell_type": "code",
   "execution_count": 71,
   "metadata": {},
   "outputs": [
    {
     "output_type": "execute_result",
     "data": {
      "text/plain": "     PID  ENC_ID  seer_stage               MEDICATION_DESC  \\\n0  10000   46836           1                    ranitidine   \n1  10008   46886           1             heparin injection   \n2  10029   47034           4  ampicillin/sulbactam IVPB UH   \n3  10063   47240           1         fentaNYL injection UH   \n4  10071   47276           9                   simvastatin   \n\n                                  MEDICATION_SUMMARY  DOSE       UNIT  \\\n0        (Zantac) 150 mg tablet oral two times a day   150         mg   \n1          5,000 unit subcutaneous three times a day  5000       unit   \n2                     (Unasyn) 15 g IV every 6 hours   1.5          g   \n3  25 - 50 microgram IV every 5 minutes PRN sever...    50  microgram   \n4               (Zocor) 40 mg tablet oral at bedtime    40         mg   \n\n           FREQUENCY  TOTAL_DOSE_COUNT  \n0    two times a day                 5  \n1  three times a day                 3  \n2      every 6 hours                11  \n3    every 5 minutes                 2  \n4         at bedtime                 1  ",
      "text/html": "<div>\n<style scoped>\n    .dataframe tbody tr th:only-of-type {\n        vertical-align: middle;\n    }\n\n    .dataframe tbody tr th {\n        vertical-align: top;\n    }\n\n    .dataframe thead th {\n        text-align: right;\n    }\n</style>\n<table border=\"1\" class=\"dataframe\">\n  <thead>\n    <tr style=\"text-align: right;\">\n      <th></th>\n      <th>PID</th>\n      <th>ENC_ID</th>\n      <th>seer_stage</th>\n      <th>MEDICATION_DESC</th>\n      <th>MEDICATION_SUMMARY</th>\n      <th>DOSE</th>\n      <th>UNIT</th>\n      <th>FREQUENCY</th>\n      <th>TOTAL_DOSE_COUNT</th>\n    </tr>\n  </thead>\n  <tbody>\n    <tr>\n      <th>0</th>\n      <td>10000</td>\n      <td>46836</td>\n      <td>1</td>\n      <td>ranitidine</td>\n      <td>(Zantac) 150 mg tablet oral two times a day</td>\n      <td>150</td>\n      <td>mg</td>\n      <td>two times a day</td>\n      <td>5</td>\n    </tr>\n    <tr>\n      <th>1</th>\n      <td>10008</td>\n      <td>46886</td>\n      <td>1</td>\n      <td>heparin injection</td>\n      <td>5,000 unit subcutaneous three times a day</td>\n      <td>5000</td>\n      <td>unit</td>\n      <td>three times a day</td>\n      <td>3</td>\n    </tr>\n    <tr>\n      <th>2</th>\n      <td>10029</td>\n      <td>47034</td>\n      <td>4</td>\n      <td>ampicillin/sulbactam IVPB UH</td>\n      <td>(Unasyn) 15 g IV every 6 hours</td>\n      <td>1.5</td>\n      <td>g</td>\n      <td>every 6 hours</td>\n      <td>11</td>\n    </tr>\n    <tr>\n      <th>3</th>\n      <td>10063</td>\n      <td>47240</td>\n      <td>1</td>\n      <td>fentaNYL injection UH</td>\n      <td>25 - 50 microgram IV every 5 minutes PRN sever...</td>\n      <td>50</td>\n      <td>microgram</td>\n      <td>every 5 minutes</td>\n      <td>2</td>\n    </tr>\n    <tr>\n      <th>4</th>\n      <td>10071</td>\n      <td>47276</td>\n      <td>9</td>\n      <td>simvastatin</td>\n      <td>(Zocor) 40 mg tablet oral at bedtime</td>\n      <td>40</td>\n      <td>mg</td>\n      <td>at bedtime</td>\n      <td>1</td>\n    </tr>\n  </tbody>\n</table>\n</div>"
     },
     "metadata": {},
     "execution_count": 71
    }
   ],
   "source": [
    "import pandas as pd\n",
    "\n",
    "df = pd.read_csv('./data/Case_Studies/CaseStudy14_HeadNeck_Cancer_Medication.csv');\n",
    "df.head()"
   ]
  },
  {
   "cell_type": "code",
   "execution_count": 72,
   "metadata": {},
   "outputs": [
    {
     "output_type": "execute_result",
     "data": {
      "text/plain": "0               zantac mg tablet oral two times a day \n1                 unit subcutaneous three times a day \n2                             unasyn g iv every hours \n3     microgram iv every minutes prn severe pain ma...\n4                     zocor mg tablet oral at bedtime \nName: MEDICATION_SUMMARY, dtype: object"
     },
     "metadata": {},
     "execution_count": 72
    }
   ],
   "source": [
    "import numpy as np\n",
    "import string\n",
    "import re\n",
    "\n",
    "hn_corpus = df['MEDICATION_SUMMARY'];\n",
    "# hn_corpus\n",
    "hn_corpus = hn_corpus.str.lower();\n",
    "hn_corpus = hn_corpus.apply(lambda elem: elem.translate(str.maketrans('', '', string.punctuation)));\n",
    "hn_corpus = hn_corpus.apply(lambda elem: re.sub(r\"\\n|\\r\", ' ', elem));\n",
    "hn_corpus = hn_corpus.apply(lambda elem: elem.translate(str.maketrans('', '', string.digits)));\n",
    "hn_corpus = hn_corpus.apply(lambda elem: re.sub(r' +', ' ', elem));\n",
    "hn_corpus = hn_corpus.apply(lambda elem: elem + ' ');\n",
    "\n",
    "df['MEDICATION_SUMMARY'] = hn_corpus;\n",
    "\n",
    "# ''.join(hn_corpus)\n",
    "df['MEDICATION_SUMMARY'].head()"
   ]
  },
  {
   "cell_type": "code",
   "execution_count": 73,
   "metadata": {},
   "outputs": [],
   "source": [
    "from wordcloud import WordCloud, STOPWORDS \n",
    "import matplotlib.pyplot as plt \n",
    "\n",
    "stopwords = set(STOPWORDS).union(['mg', 'iv']);\n",
    "wordcloud = WordCloud(width = 800, height = 800,\n",
    "                background_color ='black',\n",
    "                stopwords = stopwords,\n",
    "                collocations=False,\n",
    "                max_words=200).generate(''.join(df[df[\"seer_stage\"] <= 3]['MEDICATION_SUMMARY']));\n",
    "\n",
    "# plot the WordCloud image                        \n",
    "plt.figure(figsize = (8, 8), facecolor = None);\n",
    "plt.imshow(wordcloud);\n",
    "plt.axis(\"off\");\n",
    "plt.tight_layout(pad = 0);\n",
    "\n",
    "plt.show();\n",
    "# wordcloud.words_"
   ]
  },
  {
   "cell_type": "code",
   "execution_count": 74,
   "metadata": {},
   "outputs": [],
   "source": [
    "df['seer_stage'] = df['seer_stage'].apply(lambda elem: int(elem <= 3))\n",
    "\n",
    "# df['seer_stage'].head()"
   ]
  },
  {
   "cell_type": "code",
   "execution_count": 75,
   "metadata": {
    "tags": []
   },
   "outputs": [
    {
     "output_type": "stream",
     "name": "stdout",
     "text": "(529,) - (662, 450) - (450,)\n"
    }
   ],
   "source": [
    "from sklearn.feature_extraction.text import CountVectorizer\n",
    "\n",
    "vectorizer = CountVectorizer();\n",
    "dtm = vectorizer.fit_transform(df['MEDICATION_SUMMARY']);\n",
    "\n",
    "dtm_features = np.array(vectorizer.get_feature_names())\n",
    "# dtm.getnnz(axis=1)\n",
    "print(str(Ytrain.shape) + ' - ' + str(dtm.shape) + ' - ' + str(dtm_features.shape))"
   ]
  },
  {
   "cell_type": "code",
   "execution_count": 76,
   "metadata": {
    "tags": []
   },
   "outputs": [
    {
     "output_type": "execute_result",
     "data": {
      "text/plain": "(662, 137)"
     },
     "metadata": {},
     "execution_count": 76
    }
   ],
   "source": [
    "dtm_row_count = dtm.getnnz(axis=0);\n",
    "\n",
    "dtm = dtm[:, dtm_row_count > 5];\n",
    "dtm_features = dtm_features[dtm_row_count > 5];\n",
    "dtm.shape"
   ]
  },
  {
   "cell_type": "code",
   "execution_count": 77,
   "metadata": {},
   "outputs": [
    {
     "output_type": "execute_result",
     "data": {
      "text/plain": "(662, 115)"
     },
     "metadata": {},
     "execution_count": 77
    }
   ],
   "source": [
    "from wordcloud import STOPWORDS\n",
    "\n",
    "is_stopword = np.array([item not in STOPWORDS for item in dtm_features]);\n",
    "dtm_features = dtm_features[is_stopword];\n",
    "dtm = dtm[:, is_stopword];\n",
    "dtm.shape"
   ]
  },
  {
   "cell_type": "code",
   "execution_count": 78,
   "metadata": {},
   "outputs": [],
   "source": [
    "from sklearn.model_selection import train_test_split\n",
    "\n",
    "X = dtm.toarray();\n",
    "Y = df['seer_stage']\n",
    "\n",
    "Xtrain, Xtest, Ytrain, Ytest = train_test_split(X, Y, test_size=0.2);"
   ]
  },
  {
   "cell_type": "code",
   "execution_count": 79,
   "metadata": {
    "tags": []
   },
   "outputs": [
    {
     "output_type": "stream",
     "name": "stdout",
     "text": "0.6616257088846881\n0.5939849624060151\n"
    }
   ],
   "source": [
    "from sklearn.naive_bayes import GaussianNB\n",
    "\n",
    "model_nb = GaussianNB(var_smoothing=2);\n",
    "y_pred = model_nb.fit(Xtrain, Ytrain);\n",
    "\n",
    "train_score = model_nb.score(Xtrain, Ytrain);\n",
    "test_score = model_nb.score(Xtest, Ytest);\n",
    "\n",
    "# print(str(Ytrain.shape) + ' - ' + str(dtm_train.shape))\n",
    "print(train_score);\n",
    "print(test_score);"
   ]
  },
  {
   "cell_type": "code",
   "execution_count": 80,
   "metadata": {
    "tags": []
   },
   "outputs": [
    {
     "output_type": "stream",
     "name": "stdout",
     "text": "0.6480405559352928\n"
    }
   ],
   "source": [
    "from sklearn.model_selection import cross_val_score\n",
    "\n",
    "scores = cross_val_score(model_nb, X, Y, cv=5);\n",
    "print(np.mean(scores));"
   ]
  }
 ]
}