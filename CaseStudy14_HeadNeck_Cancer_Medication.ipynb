{
 "metadata": {
  "language_info": {
   "codemirror_mode": {
    "name": "ipython",
    "version": 3
   },
   "file_extension": ".py",
   "mimetype": "text/x-python",
   "name": "python",
   "nbconvert_exporter": "python",
   "pygments_lexer": "ipython3",
   "version": "3.8.5-final"
  },
  "orig_nbformat": 2,
  "kernelspec": {
   "name": "python38164bitb7e0759dcf5b42a7814cf7f27ec20b33",
   "display_name": "Python 3.8.1 64-bit"
  }
 },
 "nbformat": 4,
 "nbformat_minor": 2,
 "cells": [
  {
   "cell_type": "code",
   "execution_count": 122,
   "metadata": {},
   "outputs": [
    {
     "output_type": "execute_result",
     "data": {
      "text/plain": "     PID  ENC_ID  seer_stage               MEDICATION_DESC  \\\n0  10000   46836           1                    ranitidine   \n1  10008   46886           1             heparin injection   \n2  10029   47034           4  ampicillin/sulbactam IVPB UH   \n3  10063   47240           1         fentaNYL injection UH   \n4  10071   47276           9                   simvastatin   \n\n                                  MEDICATION_SUMMARY  DOSE       UNIT  \\\n0        (Zantac) 150 mg tablet oral two times a day   150         mg   \n1          5,000 unit subcutaneous three times a day  5000       unit   \n2                     (Unasyn) 15 g IV every 6 hours   1.5          g   \n3  25 - 50 microgram IV every 5 minutes PRN sever...    50  microgram   \n4               (Zocor) 40 mg tablet oral at bedtime    40         mg   \n\n           FREQUENCY  TOTAL_DOSE_COUNT  \n0    two times a day                 5  \n1  three times a day                 3  \n2      every 6 hours                11  \n3    every 5 minutes                 2  \n4         at bedtime                 1  ",
      "text/html": "<div>\n<style scoped>\n    .dataframe tbody tr th:only-of-type {\n        vertical-align: middle;\n    }\n\n    .dataframe tbody tr th {\n        vertical-align: top;\n    }\n\n    .dataframe thead th {\n        text-align: right;\n    }\n</style>\n<table border=\"1\" class=\"dataframe\">\n  <thead>\n    <tr style=\"text-align: right;\">\n      <th></th>\n      <th>PID</th>\n      <th>ENC_ID</th>\n      <th>seer_stage</th>\n      <th>MEDICATION_DESC</th>\n      <th>MEDICATION_SUMMARY</th>\n      <th>DOSE</th>\n      <th>UNIT</th>\n      <th>FREQUENCY</th>\n      <th>TOTAL_DOSE_COUNT</th>\n    </tr>\n  </thead>\n  <tbody>\n    <tr>\n      <th>0</th>\n      <td>10000</td>\n      <td>46836</td>\n      <td>1</td>\n      <td>ranitidine</td>\n      <td>(Zantac) 150 mg tablet oral two times a day</td>\n      <td>150</td>\n      <td>mg</td>\n      <td>two times a day</td>\n      <td>5</td>\n    </tr>\n    <tr>\n      <th>1</th>\n      <td>10008</td>\n      <td>46886</td>\n      <td>1</td>\n      <td>heparin injection</td>\n      <td>5,000 unit subcutaneous three times a day</td>\n      <td>5000</td>\n      <td>unit</td>\n      <td>three times a day</td>\n      <td>3</td>\n    </tr>\n    <tr>\n      <th>2</th>\n      <td>10029</td>\n      <td>47034</td>\n      <td>4</td>\n      <td>ampicillin/sulbactam IVPB UH</td>\n      <td>(Unasyn) 15 g IV every 6 hours</td>\n      <td>1.5</td>\n      <td>g</td>\n      <td>every 6 hours</td>\n      <td>11</td>\n    </tr>\n    <tr>\n      <th>3</th>\n      <td>10063</td>\n      <td>47240</td>\n      <td>1</td>\n      <td>fentaNYL injection UH</td>\n      <td>25 - 50 microgram IV every 5 minutes PRN sever...</td>\n      <td>50</td>\n      <td>microgram</td>\n      <td>every 5 minutes</td>\n      <td>2</td>\n    </tr>\n    <tr>\n      <th>4</th>\n      <td>10071</td>\n      <td>47276</td>\n      <td>9</td>\n      <td>simvastatin</td>\n      <td>(Zocor) 40 mg tablet oral at bedtime</td>\n      <td>40</td>\n      <td>mg</td>\n      <td>at bedtime</td>\n      <td>1</td>\n    </tr>\n  </tbody>\n</table>\n</div>"
     },
     "metadata": {},
     "execution_count": 122
    }
   ],
   "source": [
    "import pandas as pd\n",
    "\n",
    "df = pd.read_csv('./data/Case_Studies/CaseStudy14_HeadNeck_Cancer_Medication.csv');\n",
    "df.head()"
   ]
  },
  {
   "cell_type": "code",
   "execution_count": 123,
   "metadata": {},
   "outputs": [
    {
     "output_type": "execute_result",
     "data": {
      "text/plain": "0               zantac mg tablet oral two times a day \n1                 unit subcutaneous three times a day \n2                             unasyn g iv every hours \n3     microgram iv every minutes prn severe pain ma...\n4                     zocor mg tablet oral at bedtime \nName: MEDICATION_SUMMARY, dtype: object"
     },
     "metadata": {},
     "execution_count": 123
    }
   ],
   "source": [
    "import numpy as np\n",
    "import string\n",
    "import re\n",
    "\n",
    "hn_corpus = df['MEDICATION_SUMMARY'];\n",
    "# hn_corpus\n",
    "hn_corpus = hn_corpus.str.lower();\n",
    "hn_corpus = hn_corpus.apply(lambda elem: elem.translate(str.maketrans('', '', string.punctuation)));\n",
    "hn_corpus = hn_corpus.apply(lambda elem: re.sub(r\"\\n|\\r\", ' ', elem));\n",
    "hn_corpus = hn_corpus.apply(lambda elem: elem.translate(str.maketrans('', '', string.digits)));\n",
    "hn_corpus = hn_corpus.apply(lambda elem: re.sub(r' +', ' ', elem));\n",
    "hn_corpus = hn_corpus.apply(lambda elem: elem + ' ');\n",
    "\n",
    "df['MEDICATION_SUMMARY'] = hn_corpus;\n",
    "\n",
    "# ''.join(hn_corpus)\n",
    "df['MEDICATION_SUMMARY'].head()"
   ]
  },
  {
   "cell_type": "code",
   "execution_count": 124,
   "metadata": {},
   "outputs": [],
   "source": [
    "# from wordcloud import WordCloud, STOPWORDS \n",
    "# import matplotlib.pyplot as plt \n",
    "\n",
    "# stopwords = set(STOPWORDS).union(['mg', 'iv']);\n",
    "# wordcloud = WordCloud(width = 800, height = 800,\n",
    "#                 background_color ='black',\n",
    "#                 stopwords = stopwords,\n",
    "#                 collocations=False,\n",
    "#                 max_words=200).generate(''.join(df[df[\"seer_stage\"] <= 3]['MEDICATION_SUMMARY']));\n",
    "\n",
    "# # plot the WordCloud image                        \n",
    "# plt.figure(figsize = (8, 8), facecolor = None);\n",
    "# plt.imshow(wordcloud);\n",
    "# plt.axis(\"off\");\n",
    "# plt.tight_layout(pad = 0);\n",
    "\n",
    "# plt.show();\n",
    "# # wordcloud.words_"
   ]
  },
  {
   "cell_type": "code",
   "execution_count": 125,
   "metadata": {},
   "outputs": [],
   "source": [
    "df['seer_stage'] = df['seer_stage'].apply(lambda elem: int(elem <= 3))\n",
    "\n",
    "# df['seer_stage'].head()"
   ]
  },
  {
   "cell_type": "code",
   "execution_count": 126,
   "metadata": {},
   "outputs": [],
   "source": [
    "# from sklearn.model_selection import train_test_split\n",
    "\n",
    "# Y = df['seer_stage']\n",
    "\n",
    "# Xtrain, Xtest, Ytrain, Ytest = train_test_split(X, Y, test_size=0.2);"
   ]
  },
  {
   "cell_type": "code",
   "execution_count": 130,
   "metadata": {},
   "outputs": [
    {
     "output_type": "execute_result",
     "data": {
      "text/plain": "['acetaminophen',\n 'acetaminophin',\n 'additive',\n 'adequately',\n 'adiministered',\n 'administered',\n 'advair',\n 'after',\n 'agent',\n 'agitation',\n 'agitationanxiety',\n 'albuterol',\n 'aldactone',\n 'all',\n 'also',\n 'am',\n 'amaryl',\n 'amount',\n 'analgesia',\n 'ancef',\n 'and',\n 'anesthesia',\n 'antiemetic',\n 'antivert',\n 'anxiety',\n 'apply',\n 'appropriate',\n 'apresoline',\n 'are',\n 'artificial',\n 'as',\n 'assessment',\n 'asthma',\n 'at',\n 'ativan',\n 'atrovent',\n 'back',\n 'bactrim',\n 'based',\n 'be',\n 'bedtime',\n 'before',\n 'benadryl',\n 'benefiber',\n 'betapace',\n 'bicarbonate',\n 'bid',\n 'blood',\n 'bolus',\n 'both',\n 'bpm',\n 'breakfast',\n 'breakthrough',\n 'bronchospasmwheezing',\n 'buccal',\n 'calcijex',\n 'calcium',\n 'call',\n 'camptosar',\n 'capsule',\n 'cardura',\n 'catapres',\n 'celexa',\n 'cepacol',\n 'change',\n 'chemotherapy',\n 'chewable',\n 'chloride',\n 'cleaning',\n 'cleocin',\n 'clinician',\n 'coated',\n 'colace',\n 'compazine',\n 'contact',\n 'continuous',\n 'control',\n 'controlled',\n 'coreg',\n 'cough',\n 'coughing',\n 'crcl',\n 'crestor',\n 'currently',\n 'cycle',\n 'cymbalta',\n 'cytomel',\n 'daily',\n 'darvocetn',\n 'day',\n 'days',\n 'delivered',\n 'demand',\n 'dilaudid',\n 'diphenhydramine',\n 'directed',\n 'disintegrating',\n 'distention',\n 'do',\n 'dosage',\n 'dose',\n 'doses',\n 'dosing',\n 'dr',\n 'draw',\n 'drawn',\n 'drop',\n 'drops',\n 'duoneb',\n 'during',\n 'each',\n 'electrolyte',\n 'elixir',\n 'emend',\n 'enteric',\n 'epidurally',\n 'every',\n 'exam',\n 'exceed',\n 'extended',\n 'eye',\n 'eyes',\n 'fails',\n 'feeds',\n 'feel',\n 'fever',\n 'first',\n 'firstline',\n 'five',\n 'flomax',\n 'fluids',\n 'follow',\n 'following',\n 'for',\n 'form',\n 'four',\n 'from',\n 'gday',\n 'gerd',\n 'give',\n 'glucophage',\n 'glucophagexr',\n 'glucose',\n 'glucotrol',\n 'glycolax',\n 'goal',\n 'grams',\n 'greater',\n 'guidelines',\n 'her',\n 'ho',\n 'hold',\n 'hour',\n 'hours',\n 'house',\n 'hr',\n 'hrs',\n 'humalog',\n 'humulin',\n 'hydromorphone',\n 'hypertension',\n 'hypoglycemic',\n 'ical',\n 'if',\n 'in',\n 'incision',\n 'incisions',\n 'increase',\n 'indicated',\n 'individualized',\n 'indocin',\n 'infuse',\n 'inhaled',\n 'initial',\n 'initiate',\n 'insomnia',\n 'interval',\n 'ionized',\n 'ipratropium',\n 'is',\n 'iv',\n 'ivpo',\n 'jejunostomy',\n 'keep',\n 'keflex',\n 'kefzol',\n 'keppra',\n 'kg',\n 'lab',\n 'lanoxin',\n 'lasix',\n 'left',\n 'less',\n 'level',\n 'lidoderm',\n 'limit',\n 'liquid',\n 'loading',\n 'lockout',\n 'loose',\n 'lopressor',\n 'lortab',\n 'lotrel',\n 'lovenox',\n 'lower',\n 'lozenge',\n 'macrobid',\n 'mag',\n 'magnesium',\n 'magox',\n 'map',\n 'marinol',\n 'max',\n 'maximum',\n 'may',\n 'mcg',\n 'md',\n 'meals',\n 'meds',\n 'megace',\n 'meq',\n 'met',\n 'mevacor',\n 'mg',\n 'mgday',\n 'mgdose',\n 'mgexpect',\n 'mghr',\n 'mgmdose',\n 'microgram',\n 'microgramhour',\n 'microgramkgminute',\n 'mild',\n 'miller',\n 'millers',\n 'min',\n 'mins',\n 'minutes',\n 'miralax',\n 'ml',\n 'mlhr',\n 'mlmin',\n 'moderate',\n 'more',\n 'motrin',\n 'mri',\n 'mylicon',\n 'nasally',\n 'nausea',\n 'nauseavomiting',\n 'neptazane',\n 'neurontin',\n 'neutraphos',\n 'new',\n 'no',\n 'norco',\n 'not',\n 'notify',\n 'novolin',\n 'novolog',\n 'now',\n 'ocean',\n 'odt',\n 'of',\n 'offer',\n 'officer',\n 'on',\n 'once',\n 'ondansetron',\n 'one',\n 'onetime',\n 'only',\n 'onset',\n 'opth',\n 'optimization',\n 'or',\n 'oral',\n 'orders',\n 'other',\n 'otherwise',\n 'out',\n 'over',\n 'ox',\n 'oxide',\n 'packet',\n 'pacu',\n 'page',\n 'pain',\n 'painfever',\n 'painfeverdiscomfort',\n 'parameters',\n 'patch',\n 'patient',\n 'patients',\n 'pca',\n 'per',\n 'percocet',\n 'peridex',\n 'pharynx',\n 'physician',\n 'please',\n 'pls',\n 'pm',\n 'po',\n 'poc',\n 'pod',\n 'policy',\n 'popr',\n 'posterior',\n 'postop',\n 'potassium',\n 'potube',\n 'powder',\n 'pr',\n 'pravachol',\n 'preop',\n 'preprocedure',\n 'prilosec',\n 'prior',\n 'prn',\n 'procedure',\n 'protocol',\n 'protonix',\n 'pruritis',\n 'pt',\n 'puff',\n 'pulse',\n 'rate',\n 'receive',\n 'reconstitution',\n 'redose',\n 'refer',\n 'refractory',\n 'regional',\n 'release',\n 'repeat',\n 'replacement',\n 'requested',\n 'requestion',\n 'requests',\n 'required',\n 'rescue',\n 'right',\n 'rnovolin',\n 'robitussin',\n 'rocaltrol',\n 'roxanol',\n 'rr',\n 'rt',\n 'salinelock',\n 'sbp',\n 'schedule',\n 'scheduled',\n 'score',\n 'second',\n 'sedation',\n 'senokot',\n 'seroquel',\n 'serum',\n 'severe',\n 'she',\n 'shivering',\n 'short',\n 'sicu',\n 'sinemet',\n 'site',\n 'so',\n 'sodium',\n 'solucortef',\n 'solumedrol',\n 'solution',\n 'sources',\n 'space',\n 'spacer',\n 'spiriva',\n 'spray',\n 'start',\n 'stat',\n 'stay',\n 'stomachchest',\n 'stools',\n 'stop',\n 'subcutaneous',\n 'suspension',\n 'swab',\n 'swallow',\n 'synthroid',\n 'syrup',\n 'tab',\n 'tablet',\n 'tabs',\n 'takes',\n 'taking',\n 'target',\n 'tears',\n 'tessalon',\n 'than',\n 'thank',\n 'the',\n 'them',\n 'then',\n 'therapy',\n 'three',\n 'throat',\n 'thurs',\n 'tight',\n 'times',\n 'titrate',\n 'tko',\n 'to',\n 'tolerate',\n 'tolerating',\n 'tonight',\n 'topically',\n 'toprolxl',\n 'toradol',\n 'total',\n 'try',\n 'tube',\n 'tums',\n 'two',\n 'tylenol',\n 'ultram',\n 'unable',\n 'unasyn',\n 'unit',\n 'units',\n 'unitshr',\n 'unrelieved',\n 'unsure',\n 'until',\n 'use',\n 'used',\n 'user',\n 'ventilated',\n 'via',\n 'vibramycin',\n 'wait',\n 'was',\n 'wash',\n 'when',\n 'with',\n 'xanax',\n 'xl',\n 'you',\n 'zantac',\n 'zestril',\n 'zocor',\n 'zofran',\n 'zosyn']"
     },
     "metadata": {},
     "execution_count": 130
    }
   ],
   "source": [
    "from sklearn.feature_extraction.text import CountVectorizer\n",
    "\n",
    "vectorizer = CountVectorizer();\n",
    "dtm = vectorizer.fit_transform(hn_corpus);\n",
    "\n",
    "# vectorizer.get_feature_names()\n",
    "# dtm.getnnz(axis=1)"
   ]
  },
  {
   "cell_type": "code",
   "execution_count": 128,
   "metadata": {
    "tags": []
   },
   "outputs": [
    {
     "output_type": "execute_result",
     "data": {
      "text/plain": "(137, 450)"
     },
     "metadata": {},
     "execution_count": 128
    }
   ],
   "source": [
    "dtm_row_count = dtm.getnnz(axis=0);\n",
    "\n",
    "dtm = dtm[dtm_row_count[:] > 5, :];\n",
    "dtm.shape"
   ]
  }
 ]
}