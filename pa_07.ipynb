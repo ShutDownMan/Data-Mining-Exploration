{
 "cells": [
  {
   "cell_type": "code",
   "execution_count": 1,
   "metadata": {},
   "outputs": [],
   "source": [
    "import pandas as pd\n",
    "\n",
    "# import the data\n",
    "data = pd.read_csv('./data/boystown.csv', sep=' ');"
   ]
  },
  {
   "cell_type": "code",
   "execution_count": 2,
   "metadata": {},
   "outputs": [],
   "source": [
    "# transform categorical variables\n",
    "data['sex'] -= 1;\n",
    "data['dadjob'] -= 2;\n",
    "data['momjob'] -= 2;\n",
    "\n",
    "def map_gpa(gpa):\n",
    "\tif(gpa >= 3):\n",
    "\t\treturn 0;\n",
    "\treturn 1;\n",
    "\n",
    "data['gpa'] = [map_gpa(gpa) for gpa in data['gpa']];"
   ]
  },
  {
   "cell_type": "code",
   "execution_count": 3,
   "metadata": {},
   "outputs": [],
   "source": [
    "import numpy as np\n",
    "\n",
    "# normalize the data\n",
    "def normalize(x):\n",
    "\tx = np.array(x);\n",
    "\treturn ((x - min(x)) / (max(x)-min(x))).tolist();\n",
    "\n",
    "for label, content in data.items():\n",
    "\tdata[label] = normalize(content);"
   ]
  },
  {
   "cell_type": "code",
   "execution_count": 4,
   "metadata": {},
   "outputs": [],
   "source": [
    "# shuffle samples\n",
    "data = data.sample(frac=1).reset_index(drop=True);"
   ]
  },
  {
   "cell_type": "code",
   "execution_count": 5,
   "metadata": {},
   "outputs": [],
   "source": [
    "from sklearn.model_selection import train_test_split\n",
    "\n",
    "# split train test samples\n",
    "X = data.drop('gpa', axis=1);\n",
    "Y = data['gpa'].values;\n",
    "\n",
    "Xtrain, Xtest, Ytrain, Ytest = train_test_split(X, Y, test_size=0.25);"
   ]
  },
  {
   "cell_type": "code",
   "execution_count": 6,
   "metadata": {},
   "outputs": [],
   "source": [
    "from sklearn.neighbors import KNeighborsClassifier\n",
    "\n",
    "# train for a range of k\n",
    "evalArray = [];\n",
    "for k in range(2, 15):\n",
    "\tmodel = KNeighborsClassifier(n_neighbors=k);\n",
    "\tmodel.fit(X, Y);\n",
    "\n",
    "\ttrainScore = model.score(Xtrain, Ytrain);\n",
    "\ttestScore = model.score(Xtest, Ytest);\n",
    "\tevalArray.append((k, trainScore, testScore));"
   ]
  },
  {
   "cell_type": "code",
   "execution_count": 7,
   "metadata": {},
   "outputs": [
    {
     "name": "stdout",
     "output_type": "stream",
     "text": [
      "K\tTrain\tTest\n",
      "2 \t 0.77 \t 0.76\n",
      "10 \t 0.73 \t 0.72\n",
      "7 \t 0.76 \t 0.7\n",
      "3 \t 0.81 \t 0.7\n",
      "12 \t 0.69 \t 0.68\n",
      "9 \t 0.71 \t 0.68\n",
      "6 \t 0.72 \t 0.68\n",
      "11 \t 0.69 \t 0.66\n",
      "8 \t 0.73 \t 0.66\n",
      "4 \t 0.73 \t 0.66\n",
      "14 \t 0.65 \t 0.64\n",
      "13 \t 0.69 \t 0.64\n",
      "5 \t 0.74 \t 0.6\n"
     ]
    }
   ],
   "source": [
    "# print results\n",
    "\n",
    "evalArray = np.array(evalArray, dtype=[('k', int), ('train', float), ('test', float)]);\n",
    "\n",
    "evalArray.sort(axis=0, order='test');\n",
    "#print(evalArray);\n",
    "\n",
    "#print(evalArray.tolist());\n",
    "evalArray = evalArray[::-1];\n",
    "\n",
    "print('K\\tTrain\\tTest');\n",
    "for k, trainScore, testScore in evalArray.tolist():\n",
    "\tprint(k,\n",
    "\t\t'\\t', \"{:.2}\".format(trainScore),\n",
    "\t\t'\\t', \"{:.2}\".format(testScore));"
   ]
  }
 ],
 "metadata": {
  "kernelspec": {
   "display_name": "Python 3",
   "language": "python",
   "name": "python3"
  },
  "language_info": {
   "codemirror_mode": {
    "name": "ipython",
    "version": 3
   },
   "file_extension": ".py",
   "mimetype": "text/x-python",
   "name": "python",
   "nbconvert_exporter": "python",
   "pygments_lexer": "ipython3",
   "version": "3.8.1"
  }
 },
 "nbformat": 4,
 "nbformat_minor": 4
}
