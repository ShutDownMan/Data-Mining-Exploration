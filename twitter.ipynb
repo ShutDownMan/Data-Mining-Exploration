{
 "metadata": {
  "language_info": {
   "codemirror_mode": {
    "name": "ipython",
    "version": 3
   },
   "file_extension": ".py",
   "mimetype": "text/x-python",
   "name": "python",
   "nbconvert_exporter": "python",
   "pygments_lexer": "ipython3",
   "version": "3.8.5-final"
  },
  "orig_nbformat": 2,
  "kernelspec": {
   "name": "python38164bitb7e0759dcf5b42a7814cf7f27ec20b33",
   "display_name": "Python 3.8.1 64-bit"
  }
 },
 "nbformat": 4,
 "nbformat_minor": 2,
 "cells": [
  {
   "cell_type": "code",
   "execution_count": null,
   "metadata": {
    "tags": []
   },
   "outputs": [],
   "source": [
    "import os\n",
    "from dotenv import load_dotenv\n",
    "\n",
    "# Load file from the path\n",
    "load_dotenv('./.env')\n",
    "\n",
    "api_key = os.environ[\"API_KEY\"]\n",
    "api_secret = os.environ[\"API_SECRET\"]\n",
    "access_token = os.environ[\"ACCESS_TOKEN\"]\n",
    "access_token_secret = os.environ[\"ACCESS_TOKEN_SECRET\"]"
   ]
  },
  {
   "cell_type": "code",
   "execution_count": null,
   "metadata": {
    "tags": []
   },
   "outputs": [],
   "source": [
    "import tweepy\n",
    "\n",
    "auth = tweepy.OAuthHandler(api_key, api_secret)\n",
    "auth.set_access_token(access_token, access_token_secret)\n",
    "\n",
    "api = tweepy.API(auth)\n",
    "\n",
    "user = api.get_user('twitter')"
   ]
  },
  {
   "cell_type": "code",
   "execution_count": null,
   "metadata": {
    "tags": []
   },
   "outputs": [],
   "source": [
    "# print(user.screen_name)\n",
    "# print(user.followers_count)\n",
    "# for friend in user.friends():\n",
    "#    print(friend.screen_name)"
   ]
  },
  {
   "cell_type": "code",
   "execution_count": null,
   "metadata": {
    "tags": []
   },
   "outputs": [],
   "source": [
    "#override tweepy.StreamListener to add logic to on_status\n",
    "class MyStreamListener(tweepy.streaming.StreamListener):\n",
    "    def __init__(self, output_file=sys.stdout):\n",
    "        super(MyStreamListener, self).__init__()\n",
    "        self.output_file = output_file\n",
    "\n",
    "    def on_status(self, status):\n",
    "        # if(hasattr(status, 'extended_tweet')):\n",
    "        #     print(status.extended_tweet['full_text'], file=self.output_file)\n",
    "        # else:\n",
    "        if(not hasattr(status, 'retweeted_status')):\n",
    "            print(status.text, file=self.output_file)\n",
    "        \n",
    "    def on_error(self, status_code):\n",
    "        print(status_code)\n",
    "        return False\n",
    "\n",
    "with open(\"out.txt\", \"w+\") as out_file:\n",
    "    myStreamListener = MyStreamListener(out_file)\n",
    "    myStream = tweepy.Stream(auth=api.auth, listener=myStreamListener)\n",
    "\n",
    "    myStream.filter(track=['correios'])"
   ]
  }
 ]
}